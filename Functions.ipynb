{
 "cells": [
  {
   "cell_type": "markdown",
   "id": "2e8901dd",
   "metadata": {},
   "source": [
    "# Functions in Python"
   ]
  },
  {
   "cell_type": "code",
   "execution_count": 1,
   "id": "045ce6d5",
   "metadata": {},
   "outputs": [
    {
     "name": "stdout",
     "output_type": "stream",
     "text": [
      "Not a part of the function\n"
     ]
    }
   ],
   "source": [
    "def tea():\n",
    "    print(\"Boil water with tea leaves and sugar\")\n",
    "    print(\"Add milk\")\n",
    "    print(\"Let it boil 4-5 times\")\n",
    "    \n",
    "print(\"Not a part of the function\")\n",
    "    \n",
    "def coffee():\n",
    "    print(\"Boil some milk\")\n",
    "    print(\"Pour it in cup with some coffee\")\n",
    "    print(\"Stir\")"
   ]
  },
  {
   "cell_type": "code",
   "execution_count": 3,
   "id": "621d58d8",
   "metadata": {},
   "outputs": [
    {
     "name": "stdout",
     "output_type": "stream",
     "text": [
      "Boil water with tea leaves and sugar\n",
      "Add milk\n",
      "Let it boil 4-5 times\n",
      "Boil water with tea leaves and sugar\n",
      "Add milk\n",
      "Let it boil 4-5 times\n",
      "Boil water with tea leaves and sugar\n",
      "Add milk\n",
      "Let it boil 4-5 times\n",
      "Boil water with tea leaves and sugar\n",
      "Add milk\n",
      "Let it boil 4-5 times\n",
      "Boil water with tea leaves and sugar\n",
      "Add milk\n",
      "Let it boil 4-5 times\n",
      "Boil water with tea leaves and sugar\n",
      "Add milk\n",
      "Let it boil 4-5 times\n",
      "Boil water with tea leaves and sugar\n",
      "Add milk\n",
      "Let it boil 4-5 times\n",
      "Boil water with tea leaves and sugar\n",
      "Add milk\n",
      "Let it boil 4-5 times\n",
      "Boil water with tea leaves and sugar\n",
      "Add milk\n",
      "Let it boil 4-5 times\n"
     ]
    }
   ],
   "source": [
    "# calling tea function\n",
    "tea()\n",
    "tea()\n",
    "tea()\n",
    "tea()\n",
    "\n",
    "for i in range(5):\n",
    "    tea()"
   ]
  },
  {
   "cell_type": "code",
   "execution_count": 4,
   "id": "6168799f",
   "metadata": {},
   "outputs": [
    {
     "name": "stdout",
     "output_type": "stream",
     "text": [
      "Boil some milk\n",
      "Pour it in cup with some coffee\n",
      "Stir\n"
     ]
    }
   ],
   "source": [
    "coffee()"
   ]
  },
  {
   "cell_type": "code",
   "execution_count": null,
   "id": "5b2028e3",
   "metadata": {},
   "outputs": [],
   "source": []
  },
  {
   "cell_type": "markdown",
   "id": "3b419771",
   "metadata": {},
   "source": [
    "Write a function to say hello to people by their names"
   ]
  },
  {
   "cell_type": "code",
   "execution_count": null,
   "id": "5a81f4b7",
   "metadata": {},
   "outputs": [],
   "source": [
    "print(\"Hello Tarun Luthra\")\n",
    "print(\"Hello Peter Parker\")\n",
    "print(\"Hello Bruce Wayne\")"
   ]
  },
  {
   "cell_type": "code",
   "execution_count": 15,
   "id": "ddc30328",
   "metadata": {},
   "outputs": [],
   "source": [
    "def hello(name):\n",
    "    print(\"Hi\", name)"
   ]
  },
  {
   "cell_type": "code",
   "execution_count": 16,
   "id": "41567574",
   "metadata": {},
   "outputs": [
    {
     "name": "stdout",
     "output_type": "stream",
     "text": [
      "Hi Bruce Wayne\n"
     ]
    }
   ],
   "source": [
    "hello(\"Bruce Wayne\")"
   ]
  },
  {
   "cell_type": "code",
   "execution_count": 17,
   "id": "34a3b0b4",
   "metadata": {},
   "outputs": [
    {
     "name": "stdout",
     "output_type": "stream",
     "text": [
      "Hi 5\n"
     ]
    }
   ],
   "source": [
    "hello(5)"
   ]
  },
  {
   "cell_type": "code",
   "execution_count": 18,
   "id": "d1a7d972",
   "metadata": {},
   "outputs": [
    {
     "name": "stdout",
     "output_type": "stream",
     "text": [
      "Hi Tony Stark\n"
     ]
    }
   ],
   "source": [
    "hello(\"Tony Stark\")"
   ]
  },
  {
   "cell_type": "code",
   "execution_count": 20,
   "id": "6478af97",
   "metadata": {},
   "outputs": [
    {
     "name": "stdout",
     "output_type": "stream",
     "text": [
      "<class 'function'>\n"
     ]
    }
   ],
   "source": [
    "print(type(hello))"
   ]
  },
  {
   "cell_type": "code",
   "execution_count": 38,
   "id": "1b645adf",
   "metadata": {},
   "outputs": [],
   "source": [
    "def fight(name = \"Spiderman\", age = 20, villains = ['Thanos', 'Ultron']):\n",
    "    print(\"Hero named\", name, \"at age\", age, \"was fighting all these villains - \", villains)"
   ]
  },
  {
   "cell_type": "code",
   "execution_count": 39,
   "id": "2f6f1f19",
   "metadata": {},
   "outputs": [
    {
     "name": "stdout",
     "output_type": "stream",
     "text": [
      "Hero named Spiderman at age 20 was fighting all these villains -  ['Thanos', 'Ultron']\n"
     ]
    }
   ],
   "source": [
    "fight(\"Spiderman\", 20)"
   ]
  },
  {
   "cell_type": "code",
   "execution_count": 40,
   "id": "b2bebd62",
   "metadata": {},
   "outputs": [
    {
     "name": "stdout",
     "output_type": "stream",
     "text": [
      "Hero named Spiderman at age 20 was fighting all these villains -  ['Venom', 'Electro', 'Goblin']\n"
     ]
    }
   ],
   "source": [
    "fight(\"Spiderman\", 20, ['Venom', 'Electro', 'Goblin'])"
   ]
  },
  {
   "cell_type": "code",
   "execution_count": 41,
   "id": "017b2afb",
   "metadata": {},
   "outputs": [
    {
     "name": "stdout",
     "output_type": "stream",
     "text": [
      "Hero named Spiderman at age 20 was fighting all these villains -  ['Thanos', 'Ultron']\n"
     ]
    }
   ],
   "source": [
    "fight()"
   ]
  },
  {
   "cell_type": "code",
   "execution_count": null,
   "id": "e213a167",
   "metadata": {},
   "outputs": [],
   "source": []
  },
  {
   "cell_type": "markdown",
   "id": "64079162",
   "metadata": {},
   "source": [
    "## Returning data from a function"
   ]
  },
  {
   "cell_type": "markdown",
   "id": "54b19de2",
   "metadata": {},
   "source": [
    "Write a function to get the cube of a number."
   ]
  },
  {
   "cell_type": "code",
   "execution_count": 42,
   "id": "cd08f3f1",
   "metadata": {},
   "outputs": [],
   "source": [
    "def cube(x):\n",
    "#     return value of x**3\n",
    "    ans = x ** 3\n",
    "    return ans"
   ]
  },
  {
   "cell_type": "code",
   "execution_count": 43,
   "id": "9ce41a66",
   "metadata": {},
   "outputs": [],
   "source": [
    "x = 5\n",
    "\n",
    "# compute the cube of x and store it in 'y'\n",
    "y = cube(x)"
   ]
  },
  {
   "cell_type": "code",
   "execution_count": 44,
   "id": "1b7a1abf",
   "metadata": {},
   "outputs": [
    {
     "data": {
      "text/plain": [
       "125"
      ]
     },
     "execution_count": 44,
     "metadata": {},
     "output_type": "execute_result"
    }
   ],
   "source": [
    "y"
   ]
  },
  {
   "cell_type": "code",
   "execution_count": 45,
   "id": "c4782559",
   "metadata": {},
   "outputs": [
    {
     "name": "stdout",
     "output_type": "stream",
     "text": [
      "27\n"
     ]
    }
   ],
   "source": [
    "z = cube(3)\n",
    "print(z)"
   ]
  },
  {
   "cell_type": "code",
   "execution_count": 46,
   "id": "fe6b2209",
   "metadata": {},
   "outputs": [
    {
     "name": "stdout",
     "output_type": "stream",
     "text": [
      "5 cube + 3 cube 152\n"
     ]
    }
   ],
   "source": [
    "print(\"5 cube + 3 cube = \", y+z)"
   ]
  },
  {
   "cell_type": "markdown",
   "id": "7a042c75",
   "metadata": {},
   "source": [
    "## Return as many as values as you want"
   ]
  },
  {
   "cell_type": "markdown",
   "id": "137a1b92",
   "metadata": {},
   "source": []
  },
  {
   "cell_type": "code",
   "execution_count": 47,
   "id": "eb244267",
   "metadata": {},
   "outputs": [],
   "source": [
    "def spiderman():\n",
    "    return \"Peter Parker\", 20, \"Tom Holland\"\n",
    "    return 5 , 2, 3.   ## reduntant code, will never get executed"
   ]
  },
  {
   "cell_type": "code",
   "execution_count": 48,
   "id": "66f07b9e",
   "metadata": {},
   "outputs": [],
   "source": [
    "name, age, actor = spiderman()"
   ]
  },
  {
   "cell_type": "code",
   "execution_count": 49,
   "id": "03d2229c",
   "metadata": {},
   "outputs": [
    {
     "name": "stdout",
     "output_type": "stream",
     "text": [
      "Name =  Peter Parker\n",
      "Age =  20\n",
      "Actor = Tom Holland\n"
     ]
    }
   ],
   "source": [
    "print(\"Name = \", name)\n",
    "print(\"Age = \", age)\n",
    "print(\"Actor =\", actor)\n"
   ]
  },
  {
   "cell_type": "code",
   "execution_count": null,
   "id": "91c1f1c8",
   "metadata": {},
   "outputs": [],
   "source": []
  },
  {
   "cell_type": "code",
   "execution_count": null,
   "id": "67028675",
   "metadata": {},
   "outputs": [],
   "source": []
  },
  {
   "cell_type": "markdown",
   "id": "2849103a",
   "metadata": {},
   "source": [
    "## Calling with keyword pair arguments"
   ]
  },
  {
   "cell_type": "code",
   "execution_count": 50,
   "id": "77b87fd1",
   "metadata": {},
   "outputs": [],
   "source": [
    "def fight(name, age, villains):\n",
    "    print(\"Hero named\", name, \"at age\", age, \"was fighting all these villains - \", villains)"
   ]
  },
  {
   "cell_type": "code",
   "execution_count": 51,
   "id": "20eab339",
   "metadata": {},
   "outputs": [
    {
     "name": "stdout",
     "output_type": "stream",
     "text": [
      "Hero named Spiderman at age 20 was fighting all these villains -  ['Venom', 'Electro']\n"
     ]
    }
   ],
   "source": [
    "fight(age=20, villains=['Venom', 'Electro'], name=\"Spiderman\")"
   ]
  },
  {
   "cell_type": "code",
   "execution_count": 52,
   "id": "3f3e3263",
   "metadata": {},
   "outputs": [],
   "source": [
    "fight?"
   ]
  },
  {
   "cell_type": "code",
   "execution_count": 53,
   "id": "c3daad7b",
   "metadata": {},
   "outputs": [],
   "source": [
    "range?"
   ]
  },
  {
   "cell_type": "code",
   "execution_count": null,
   "id": "3cb0e6c7",
   "metadata": {},
   "outputs": [],
   "source": []
  },
  {
   "cell_type": "code",
   "execution_count": null,
   "id": "2277a271",
   "metadata": {},
   "outputs": [],
   "source": []
  },
  {
   "cell_type": "code",
   "execution_count": null,
   "id": "41ffd08b",
   "metadata": {},
   "outputs": [],
   "source": []
  },
  {
   "cell_type": "markdown",
   "id": "107ba3dc",
   "metadata": {},
   "source": [
    "# Break till 10.13 pm"
   ]
  },
  {
   "cell_type": "markdown",
   "id": "9271d5b6",
   "metadata": {},
   "source": []
  },
  {
   "cell_type": "code",
   "execution_count": null,
   "id": "666c88a4",
   "metadata": {},
   "outputs": [],
   "source": []
  },
  {
   "cell_type": "code",
   "execution_count": null,
   "id": "45ec52a3",
   "metadata": {},
   "outputs": [],
   "source": []
  },
  {
   "cell_type": "code",
   "execution_count": null,
   "id": "c49d7c8b",
   "metadata": {},
   "outputs": [],
   "source": []
  },
  {
   "cell_type": "code",
   "execution_count": null,
   "id": "5f3364dd",
   "metadata": {},
   "outputs": [],
   "source": []
  },
  {
   "cell_type": "markdown",
   "id": "9acdee9e",
   "metadata": {},
   "source": [
    "## Call stack"
   ]
  },
  {
   "cell_type": "code",
   "execution_count": 67,
   "id": "01ee2e6e",
   "metadata": {},
   "outputs": [
    {
     "name": "stdout",
     "output_type": "stream",
     "text": [
      "m =  10\n",
      "y =  5\n",
      "m =  10\n",
      "y =  5\n",
      "41\n",
      "hello\n",
      "m =  10\n",
      "y =  5\n",
      "100\n",
      "y =  5\n"
     ]
    }
   ],
   "source": [
    "m = 10 \n",
    "# global scope\n",
    "# its value can be read inside any function\n",
    "\n",
    "y = 1000\n",
    "\n",
    "def square(x):\n",
    "    print(\"m = \", m)\n",
    "    global y\n",
    "    y = 5\n",
    "    print(\"y = \", y)\n",
    "    return x ** 2\n",
    "\n",
    "\n",
    "def pythagoras(a, b):\n",
    "    c2 = square(a) + square(b)\n",
    "    return c2\n",
    "\n",
    "print(pythagoras(4, 5))\n",
    "print(\"hello\")\n",
    "print(square(10))\n",
    "print(\"y = \", y)"
   ]
  },
  {
   "cell_type": "code",
   "execution_count": 60,
   "id": "a48d307b",
   "metadata": {},
   "outputs": [],
   "source": [
    "pythagoras?"
   ]
  },
  {
   "cell_type": "code",
   "execution_count": null,
   "id": "80e5176c",
   "metadata": {},
   "outputs": [],
   "source": []
  },
  {
   "cell_type": "code",
   "execution_count": null,
   "id": "6872a80f",
   "metadata": {},
   "outputs": [],
   "source": []
  },
  {
   "cell_type": "code",
   "execution_count": 88,
   "id": "3d2a627c",
   "metadata": {},
   "outputs": [
    {
     "name": "stdout",
     "output_type": "stream",
     "text": [
      "x =  20\n",
      "Hello World\n",
      "x =  20\n"
     ]
    }
   ],
   "source": [
    "x = 10\n",
    "\n",
    "def hello():\n",
    "    global x\n",
    "    x = 20\n",
    "    print(\"x = \", x)\n",
    "    print('Hello World')\n",
    "    \n",
    "hello()\n",
    "print(\"x = \",x)"
   ]
  },
  {
   "cell_type": "code",
   "execution_count": null,
   "id": "7a4c32c6",
   "metadata": {},
   "outputs": [],
   "source": []
  },
  {
   "cell_type": "code",
   "execution_count": null,
   "id": "a2c8c693",
   "metadata": {},
   "outputs": [],
   "source": []
  },
  {
   "cell_type": "code",
   "execution_count": null,
   "id": "583287a1",
   "metadata": {},
   "outputs": [],
   "source": []
  },
  {
   "cell_type": "code",
   "execution_count": null,
   "id": "fe02e3a7",
   "metadata": {},
   "outputs": [],
   "source": []
  },
  {
   "cell_type": "code",
   "execution_count": null,
   "id": "beb8375f",
   "metadata": {},
   "outputs": [],
   "source": []
  },
  {
   "cell_type": "markdown",
   "id": "a33584c5",
   "metadata": {},
   "source": [
    "# Map function"
   ]
  },
  {
   "cell_type": "code",
   "execution_count": 68,
   "id": "d012f430",
   "metadata": {},
   "outputs": [],
   "source": [
    "def square(x):\n",
    "    return x ** 2\n",
    "\n",
    "a = [5, 2, 6, 9, 3]"
   ]
  },
  {
   "cell_type": "markdown",
   "id": "2381d705",
   "metadata": {},
   "source": [
    "Generate a list that contains the squares of the numbers in 'a'\n",
    "\n",
    "b = [25, 4, 36, 81, 9]"
   ]
  },
  {
   "cell_type": "code",
   "execution_count": 69,
   "id": "998d1469",
   "metadata": {},
   "outputs": [],
   "source": [
    "b = []\n",
    "for x in a:\n",
    "    b.append(square(x))"
   ]
  },
  {
   "cell_type": "code",
   "execution_count": 70,
   "id": "2d568cda",
   "metadata": {},
   "outputs": [
    {
     "data": {
      "text/plain": [
       "[25, 4, 36, 81, 9]"
      ]
     },
     "execution_count": 70,
     "metadata": {},
     "output_type": "execute_result"
    }
   ],
   "source": [
    "b"
   ]
  },
  {
   "cell_type": "markdown",
   "id": "ea52f049",
   "metadata": {},
   "source": [
    "You want to call a function on all elements of an iterable (list, range, tuple, set)."
   ]
  },
  {
   "cell_type": "code",
   "execution_count": 74,
   "id": "17e39340",
   "metadata": {},
   "outputs": [],
   "source": [
    "b = list(map(square, a))"
   ]
  },
  {
   "cell_type": "code",
   "execution_count": 76,
   "id": "c96edd71",
   "metadata": {},
   "outputs": [
    {
     "data": {
      "text/plain": [
       "[25, 4, 36, 81, 9]"
      ]
     },
     "execution_count": 76,
     "metadata": {},
     "output_type": "execute_result"
    }
   ],
   "source": [
    "b"
   ]
  },
  {
   "cell_type": "code",
   "execution_count": null,
   "id": "4ac6a0e8",
   "metadata": {},
   "outputs": [],
   "source": []
  },
  {
   "cell_type": "code",
   "execution_count": null,
   "id": "8d68f75a",
   "metadata": {},
   "outputs": [],
   "source": []
  },
  {
   "cell_type": "code",
   "execution_count": null,
   "id": "0e62b553",
   "metadata": {},
   "outputs": [],
   "source": []
  },
  {
   "cell_type": "code",
   "execution_count": null,
   "id": "053f8d92",
   "metadata": {},
   "outputs": [],
   "source": []
  },
  {
   "cell_type": "markdown",
   "id": "31178adc",
   "metadata": {},
   "source": [
    "# Lambda Functions"
   ]
  },
  {
   "cell_type": "code",
   "execution_count": 77,
   "id": "7182c05c",
   "metadata": {},
   "outputs": [],
   "source": [
    "def square(x):\n",
    "    return x ** 2\n",
    "\n",
    "def cube(x):\n",
    "    return x ** 3"
   ]
  },
  {
   "cell_type": "code",
   "execution_count": 78,
   "id": "1681e0b2",
   "metadata": {},
   "outputs": [],
   "source": [
    "square2 = lambda x: x ** 2"
   ]
  },
  {
   "cell_type": "code",
   "execution_count": 79,
   "id": "1227ed2d",
   "metadata": {},
   "outputs": [
    {
     "data": {
      "text/plain": [
       "100"
      ]
     },
     "execution_count": 79,
     "metadata": {},
     "output_type": "execute_result"
    }
   ],
   "source": [
    "square2(10)"
   ]
  },
  {
   "cell_type": "code",
   "execution_count": 80,
   "id": "04f22a8c",
   "metadata": {},
   "outputs": [],
   "source": [
    "multiply1 = lambda a,b: a*b\n",
    "\n",
    "def multiply2(a, b):\n",
    "    return a*b"
   ]
  },
  {
   "cell_type": "code",
   "execution_count": 82,
   "id": "06c8fac6",
   "metadata": {},
   "outputs": [
    {
     "data": {
      "text/plain": [
       "30"
      ]
     },
     "execution_count": 82,
     "metadata": {},
     "output_type": "execute_result"
    }
   ],
   "source": [
    "multiply2(6,5)"
   ]
  },
  {
   "cell_type": "code",
   "execution_count": 93,
   "id": "e20a5eff",
   "metadata": {},
   "outputs": [],
   "source": [
    "d = lambda b: [b**2, b+b]"
   ]
  },
  {
   "cell_type": "code",
   "execution_count": 94,
   "id": "721b1152",
   "metadata": {},
   "outputs": [
    {
     "data": {
      "text/plain": [
       "[100, 20]"
      ]
     },
     "execution_count": 94,
     "metadata": {},
     "output_type": "execute_result"
    }
   ],
   "source": [
    "d(10)"
   ]
  },
  {
   "cell_type": "code",
   "execution_count": null,
   "id": "accdf9aa",
   "metadata": {},
   "outputs": [],
   "source": [
    "def d(b):\n",
    "    return b**2, b+b"
   ]
  }
 ],
 "metadata": {
  "kernelspec": {
   "display_name": "Python 3 (ipykernel)",
   "language": "python",
   "name": "python3"
  },
  "language_info": {
   "codemirror_mode": {
    "name": "ipython",
    "version": 3
   },
   "file_extension": ".py",
   "mimetype": "text/x-python",
   "name": "python",
   "nbconvert_exporter": "python",
   "pygments_lexer": "ipython3",
   "version": "3.9.7"
  }
 },
 "nbformat": 4,
 "nbformat_minor": 5
}
