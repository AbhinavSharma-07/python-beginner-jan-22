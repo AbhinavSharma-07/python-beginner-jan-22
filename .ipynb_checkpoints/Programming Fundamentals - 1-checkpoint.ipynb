{
 "cells": [
  {
   "cell_type": "markdown",
   "id": "dba5f360",
   "metadata": {},
   "source": [
    "# Programming Fundamentals - 1 : Intro to Python\n"
   ]
  },
  {
   "cell_type": "markdown",
   "id": "aae544e7",
   "metadata": {},
   "source": [
    "## Hello World"
   ]
  },
  {
   "cell_type": "code",
   "execution_count": 1,
   "id": "1edf02d3",
   "metadata": {},
   "outputs": [
    {
     "name": "stdout",
     "output_type": "stream",
     "text": [
      "Hello World\n"
     ]
    }
   ],
   "source": [
    "print(\"Hello World\")"
   ]
  },
  {
   "cell_type": "code",
   "execution_count": 2,
   "id": "2c7110c9",
   "metadata": {},
   "outputs": [
    {
     "name": "stdout",
     "output_type": "stream",
     "text": [
      "7\n"
     ]
    }
   ],
   "source": [
    "print(5+2)"
   ]
  },
  {
   "cell_type": "code",
   "execution_count": 3,
   "id": "98914264",
   "metadata": {},
   "outputs": [
    {
     "name": "stdout",
     "output_type": "stream",
     "text": [
      "14\n"
     ]
    }
   ],
   "source": [
    "print(10 - 2 + 6)"
   ]
  },
  {
   "cell_type": "code",
   "execution_count": 4,
   "id": "16d13520",
   "metadata": {},
   "outputs": [
    {
     "name": "stdout",
     "output_type": "stream",
     "text": [
      "good evening\n"
     ]
    }
   ],
   "source": [
    "print(\"good evening\")"
   ]
  },
  {
   "cell_type": "code",
   "execution_count": 5,
   "id": "cd210126",
   "metadata": {},
   "outputs": [
    {
     "name": "stdout",
     "output_type": "stream",
     "text": [
      "good morning\n"
     ]
    }
   ],
   "source": [
    "print('good morning')"
   ]
  },
  {
   "cell_type": "code",
   "execution_count": 6,
   "id": "791de61d",
   "metadata": {},
   "outputs": [
    {
     "data": {
      "text/plain": [
       "7"
      ]
     },
     "execution_count": 6,
     "metadata": {},
     "output_type": "execute_result"
    }
   ],
   "source": [
    "5+2"
   ]
  },
  {
   "cell_type": "markdown",
   "id": "8770f111",
   "metadata": {},
   "source": [
    "## Simple Interest"
   ]
  },
  {
   "cell_type": "code",
   "execution_count": 8,
   "id": "355752b1",
   "metadata": {},
   "outputs": [],
   "source": [
    "p = 100.15\n",
    "r = 5\n",
    "t = 2"
   ]
  },
  {
   "cell_type": "code",
   "execution_count": 9,
   "id": "1a16ed7c",
   "metadata": {},
   "outputs": [],
   "source": [
    "si = (p * r * t)/100"
   ]
  },
  {
   "cell_type": "code",
   "execution_count": 10,
   "id": "43ec51f4",
   "metadata": {},
   "outputs": [
    {
     "name": "stdout",
     "output_type": "stream",
     "text": [
      "Simple Interest is 10.015\n"
     ]
    }
   ],
   "source": [
    "print(\"Simple Interest is\", si)"
   ]
  },
  {
   "cell_type": "code",
   "execution_count": null,
   "id": "d2166200",
   "metadata": {},
   "outputs": [],
   "source": []
  },
  {
   "cell_type": "code",
   "execution_count": null,
   "id": "2d8c20c1",
   "metadata": {},
   "outputs": [],
   "source": []
  },
  {
   "cell_type": "code",
   "execution_count": null,
   "id": "0067c7c6",
   "metadata": {},
   "outputs": [],
   "source": []
  },
  {
   "cell_type": "code",
   "execution_count": null,
   "id": "594b79c4",
   "metadata": {},
   "outputs": [],
   "source": []
  },
  {
   "cell_type": "code",
   "execution_count": null,
   "id": "cef76375",
   "metadata": {},
   "outputs": [],
   "source": []
  },
  {
   "cell_type": "code",
   "execution_count": null,
   "id": "e87fbcc2",
   "metadata": {},
   "outputs": [],
   "source": []
  },
  {
   "cell_type": "code",
   "execution_count": null,
   "id": "95fd6418",
   "metadata": {},
   "outputs": [],
   "source": []
  },
  {
   "cell_type": "markdown",
   "id": "35811385",
   "metadata": {},
   "source": [
    "## Input"
   ]
  },
  {
   "cell_type": "markdown",
   "id": "d7f1df97",
   "metadata": {},
   "source": [
    "Take the name of the user as input. And say hello to them"
   ]
  },
  {
   "cell_type": "code",
   "execution_count": 11,
   "id": "5acb3539",
   "metadata": {},
   "outputs": [
    {
     "name": "stdout",
     "output_type": "stream",
     "text": [
      "Bruce Wayne\n"
     ]
    }
   ],
   "source": [
    "name = input()"
   ]
  },
  {
   "cell_type": "code",
   "execution_count": 13,
   "id": "2a1a38b5",
   "metadata": {},
   "outputs": [
    {
     "name": "stdout",
     "output_type": "stream",
     "text": [
      "Hello Bruce Wayne\n"
     ]
    }
   ],
   "source": [
    "print(\"Hello\",name)"
   ]
  },
  {
   "cell_type": "code",
   "execution_count": 14,
   "id": "2fd156c6",
   "metadata": {},
   "outputs": [
    {
     "name": "stdout",
     "output_type": "stream",
     "text": [
      "Bruce Wayne\n",
      "Clark Kent\n",
      "Diana Prince\n"
     ]
    }
   ],
   "source": [
    "name1 = input()\n",
    "name2 = input()\n",
    "name3 = input()"
   ]
  },
  {
   "cell_type": "code",
   "execution_count": 15,
   "id": "fdb008db",
   "metadata": {},
   "outputs": [
    {
     "name": "stdout",
     "output_type": "stream",
     "text": [
      "Bruce Wayne Clark Kent Diana Prince\n"
     ]
    }
   ],
   "source": [
    "print(name1, name2, name3)"
   ]
  },
  {
   "cell_type": "code",
   "execution_count": null,
   "id": "3fbe3cbe",
   "metadata": {},
   "outputs": [],
   "source": []
  },
  {
   "cell_type": "code",
   "execution_count": 17,
   "id": "3f2466f9",
   "metadata": {},
   "outputs": [
    {
     "name": "stdout",
     "output_type": "stream",
     "text": [
      "Clark\n",
      "Hello Clark\n"
     ]
    }
   ],
   "source": [
    "print('Hello', input())"
   ]
  },
  {
   "cell_type": "code",
   "execution_count": 20,
   "id": "7d35bb91",
   "metadata": {},
   "outputs": [
    {
     "name": "stdout",
     "output_type": "stream",
     "text": [
      "Clark Kent's awesome\n"
     ]
    }
   ],
   "source": [
    "print('Clark Kent\\'s awesome')\n",
    "\n",
    "\n",
    "# Backslash \\ is known as the 'escape character'"
   ]
  },
  {
   "cell_type": "code",
   "execution_count": null,
   "id": "44818a3e",
   "metadata": {},
   "outputs": [],
   "source": []
  },
  {
   "cell_type": "markdown",
   "id": "92b6fc93",
   "metadata": {},
   "source": [
    "## Comments"
   ]
  },
  {
   "cell_type": "markdown",
   "id": "37c6d610",
   "metadata": {},
   "source": [
    "Comments are statements that are written inside the code but they are ignored by the interpreter. These are written to make the code understandable and readable.\n"
   ]
  },
  {
   "cell_type": "code",
   "execution_count": 22,
   "id": "559db1a5",
   "metadata": {},
   "outputs": [
    {
     "name": "stdout",
     "output_type": "stream",
     "text": [
      "Good evening\n",
      "Hello to everyone\n"
     ]
    }
   ],
   "source": [
    "print(\"Good evening\")\n",
    "# This is a good evening statement\n",
    "\n",
    "print(\"Hello to everyone\")\n",
    "# this is also a print statement"
   ]
  },
  {
   "cell_type": "code",
   "execution_count": null,
   "id": "6cb2fa42",
   "metadata": {},
   "outputs": [],
   "source": []
  },
  {
   "cell_type": "code",
   "execution_count": null,
   "id": "02ff91dd",
   "metadata": {},
   "outputs": [],
   "source": []
  },
  {
   "cell_type": "code",
   "execution_count": null,
   "id": "c6a74ce3",
   "metadata": {},
   "outputs": [],
   "source": []
  },
  {
   "cell_type": "code",
   "execution_count": null,
   "id": "87691b71",
   "metadata": {},
   "outputs": [],
   "source": []
  },
  {
   "cell_type": "markdown",
   "id": "dc358639",
   "metadata": {},
   "source": [
    "## Data Types\n",
    "- Integers - int\n",
    "- Floating point numbers - float\n",
    "- Strings - str\n",
    "- Boolean Type - bool\n",
    "- NoneType"
   ]
  },
  {
   "cell_type": "code",
   "execution_count": 23,
   "id": "5fc94e8f",
   "metadata": {},
   "outputs": [],
   "source": [
    "a = 100"
   ]
  },
  {
   "cell_type": "code",
   "execution_count": 24,
   "id": "685f6351",
   "metadata": {},
   "outputs": [
    {
     "name": "stdout",
     "output_type": "stream",
     "text": [
      "<class 'int'>\n"
     ]
    }
   ],
   "source": [
    "print(type(a))"
   ]
  },
  {
   "cell_type": "markdown",
   "id": "3878fc1d",
   "metadata": {},
   "source": [
    "Variable 'a' is storing integer type of data."
   ]
  },
  {
   "cell_type": "code",
   "execution_count": 25,
   "id": "35991aad",
   "metadata": {},
   "outputs": [],
   "source": [
    "b = 10.74982374"
   ]
  },
  {
   "cell_type": "code",
   "execution_count": 26,
   "id": "7bc8cad9",
   "metadata": {},
   "outputs": [
    {
     "name": "stdout",
     "output_type": "stream",
     "text": [
      "<class 'float'>\n"
     ]
    }
   ],
   "source": [
    "print(type(b))"
   ]
  },
  {
   "cell_type": "markdown",
   "id": "7ee50f8d",
   "metadata": {},
   "source": [
    "Float - Numbers having the decimal point."
   ]
  },
  {
   "cell_type": "code",
   "execution_count": 27,
   "id": "77f818d3",
   "metadata": {},
   "outputs": [],
   "source": [
    "c = 'Hello World'"
   ]
  },
  {
   "cell_type": "code",
   "execution_count": 28,
   "id": "5d812e4a",
   "metadata": {},
   "outputs": [
    {
     "name": "stdout",
     "output_type": "stream",
     "text": [
      "<class 'str'>\n"
     ]
    }
   ],
   "source": [
    "print(type(c))"
   ]
  },
  {
   "cell_type": "markdown",
   "id": "09291a66",
   "metadata": {},
   "source": [
    "str - string"
   ]
  },
  {
   "cell_type": "code",
   "execution_count": 29,
   "id": "44f647db",
   "metadata": {},
   "outputs": [],
   "source": [
    "d = 'h'"
   ]
  },
  {
   "cell_type": "code",
   "execution_count": 30,
   "id": "20d5aee5",
   "metadata": {},
   "outputs": [
    {
     "name": "stdout",
     "output_type": "stream",
     "text": [
      "<class 'str'>\n"
     ]
    }
   ],
   "source": [
    "print(type(d))"
   ]
  },
  {
   "cell_type": "code",
   "execution_count": 35,
   "id": "f0fc3378",
   "metadata": {},
   "outputs": [],
   "source": [
    "e = True\n",
    "f = False"
   ]
  },
  {
   "cell_type": "code",
   "execution_count": 36,
   "id": "2dca3068",
   "metadata": {},
   "outputs": [
    {
     "name": "stdout",
     "output_type": "stream",
     "text": [
      "<class 'bool'>\n"
     ]
    }
   ],
   "source": [
    "print(type(e))"
   ]
  },
  {
   "cell_type": "code",
   "execution_count": 37,
   "id": "60a418ed",
   "metadata": {},
   "outputs": [
    {
     "name": "stdout",
     "output_type": "stream",
     "text": [
      "True False\n"
     ]
    }
   ],
   "source": [
    "print(e, f)"
   ]
  },
  {
   "cell_type": "code",
   "execution_count": 38,
   "id": "06dc10f6",
   "metadata": {},
   "outputs": [],
   "source": [
    "E = True"
   ]
  },
  {
   "cell_type": "code",
   "execution_count": 39,
   "id": "6ede2261",
   "metadata": {},
   "outputs": [
    {
     "name": "stdout",
     "output_type": "stream",
     "text": [
      "True\n"
     ]
    }
   ],
   "source": [
    "print(E)"
   ]
  },
  {
   "cell_type": "code",
   "execution_count": 41,
   "id": "5cd748eb",
   "metadata": {},
   "outputs": [],
   "source": [
    "g = None\n",
    "\n",
    "# None denotes NULL value."
   ]
  },
  {
   "cell_type": "code",
   "execution_count": 42,
   "id": "db99cdad",
   "metadata": {},
   "outputs": [
    {
     "name": "stdout",
     "output_type": "stream",
     "text": [
      "<class 'NoneType'>\n"
     ]
    }
   ],
   "source": [
    "print(type(g))"
   ]
  },
  {
   "cell_type": "code",
   "execution_count": null,
   "id": "e132603c",
   "metadata": {},
   "outputs": [],
   "source": [
    "# variable name must always begin with a character or underscore\n",
    "# variables names are case sensitive\n",
    "# special characters are not allowed in naming variables (underscore is an exception)\n",
    "\n",
    "name1\n",
    "name-1   # not allowed\n",
    "name_1   # this is allowed"
   ]
  },
  {
   "cell_type": "code",
   "execution_count": 43,
   "id": "c0d6b79f",
   "metadata": {},
   "outputs": [],
   "source": [
    "_name = 10"
   ]
  },
  {
   "cell_type": "code",
   "execution_count": 44,
   "id": "e305ad16",
   "metadata": {},
   "outputs": [
    {
     "name": "stdout",
     "output_type": "stream",
     "text": [
      "10\n"
     ]
    }
   ],
   "source": [
    "print(_name)"
   ]
  },
  {
   "cell_type": "markdown",
   "id": "6833f46b",
   "metadata": {},
   "source": [
    "### Typecasting"
   ]
  },
  {
   "cell_type": "code",
   "execution_count": 45,
   "id": "419f866e",
   "metadata": {},
   "outputs": [],
   "source": [
    "f = 7.4"
   ]
  },
  {
   "cell_type": "markdown",
   "id": "432a9616",
   "metadata": {},
   "source": [
    "Convert this float number to an integer\n",
    "\n",
    "7.4 -> 7"
   ]
  },
  {
   "cell_type": "code",
   "execution_count": 48,
   "id": "fb8f62c1",
   "metadata": {},
   "outputs": [],
   "source": [
    "i = int(f)\n",
    "i2 = int(10.9)\n",
    "i3 = int(-5.3)"
   ]
  },
  {
   "cell_type": "code",
   "execution_count": 49,
   "id": "14013875",
   "metadata": {},
   "outputs": [
    {
     "name": "stdout",
     "output_type": "stream",
     "text": [
      "7 10 -5\n"
     ]
    }
   ],
   "source": [
    "print(i, i2, i3)"
   ]
  },
  {
   "cell_type": "code",
   "execution_count": 50,
   "id": "2a4bbf83",
   "metadata": {},
   "outputs": [
    {
     "name": "stdout",
     "output_type": "stream",
     "text": [
      "<class 'int'>\n"
     ]
    }
   ],
   "source": [
    "print(type(i))"
   ]
  },
  {
   "cell_type": "code",
   "execution_count": 55,
   "id": "8890cae0",
   "metadata": {},
   "outputs": [
    {
     "name": "stdout",
     "output_type": "stream",
     "text": [
      "7\n"
     ]
    }
   ],
   "source": [
    "x = int(7.91)\n",
    "print(x)"
   ]
  },
  {
   "cell_type": "code",
   "execution_count": null,
   "id": "9abbd87c",
   "metadata": {},
   "outputs": [],
   "source": []
  },
  {
   "cell_type": "code",
   "execution_count": null,
   "id": "b0ff74ae",
   "metadata": {},
   "outputs": [],
   "source": []
  },
  {
   "cell_type": "code",
   "execution_count": null,
   "id": "82c4d078",
   "metadata": {},
   "outputs": [],
   "source": []
  },
  {
   "cell_type": "markdown",
   "id": "55fb1a37",
   "metadata": {},
   "source": [
    "Convert int to float"
   ]
  },
  {
   "cell_type": "code",
   "execution_count": 51,
   "id": "32d4aeea",
   "metadata": {},
   "outputs": [],
   "source": [
    "a = 10\n",
    "b = float(a)"
   ]
  },
  {
   "cell_type": "code",
   "execution_count": 53,
   "id": "7c60072a",
   "metadata": {},
   "outputs": [
    {
     "name": "stdout",
     "output_type": "stream",
     "text": [
      "10.0\n",
      "<class 'float'>\n"
     ]
    }
   ],
   "source": [
    "print(b)\n",
    "print(type(b))"
   ]
  },
  {
   "cell_type": "code",
   "execution_count": null,
   "id": "63800568",
   "metadata": {},
   "outputs": [],
   "source": []
  },
  {
   "cell_type": "code",
   "execution_count": null,
   "id": "50dba83e",
   "metadata": {},
   "outputs": [],
   "source": []
  },
  {
   "cell_type": "markdown",
   "id": "6a96d349",
   "metadata": {},
   "source": [
    "### String to int"
   ]
  },
  {
   "cell_type": "code",
   "execution_count": 56,
   "id": "cd6a6778",
   "metadata": {},
   "outputs": [],
   "source": [
    "s = \"537\""
   ]
  },
  {
   "cell_type": "code",
   "execution_count": 60,
   "id": "4a3f061e",
   "metadata": {},
   "outputs": [
    {
     "name": "stdout",
     "output_type": "stream",
     "text": [
      "<class 'str'>\n"
     ]
    }
   ],
   "source": [
    "print(type(s))"
   ]
  },
  {
   "cell_type": "code",
   "execution_count": 61,
   "id": "411f3c5d",
   "metadata": {},
   "outputs": [],
   "source": [
    "i = int(s)"
   ]
  },
  {
   "cell_type": "code",
   "execution_count": 62,
   "id": "9e32b189",
   "metadata": {},
   "outputs": [
    {
     "name": "stdout",
     "output_type": "stream",
     "text": [
      "537 <class 'int'>\n"
     ]
    }
   ],
   "source": [
    "print(i, type(i))"
   ]
  },
  {
   "cell_type": "code",
   "execution_count": 63,
   "id": "883ae756",
   "metadata": {},
   "outputs": [
    {
     "ename": "ValueError",
     "evalue": "invalid literal for int() with base 10: 'abcd'",
     "output_type": "error",
     "traceback": [
      "\u001b[0;31m---------------------------------------------------------------------------\u001b[0m",
      "\u001b[0;31mValueError\u001b[0m                                Traceback (most recent call last)",
      "\u001b[0;32m/var/folders/jn/1bsrct314hv5xmfm7vrcdrzc0000gn/T/ipykernel_3650/2245078271.py\u001b[0m in \u001b[0;36m<module>\u001b[0;34m\u001b[0m\n\u001b[0;32m----> 1\u001b[0;31m \u001b[0mi2\u001b[0m \u001b[0;34m=\u001b[0m \u001b[0mint\u001b[0m\u001b[0;34m(\u001b[0m\u001b[0;34m\"abcd\"\u001b[0m\u001b[0;34m)\u001b[0m\u001b[0;34m\u001b[0m\u001b[0;34m\u001b[0m\u001b[0m\n\u001b[0m",
      "\u001b[0;31mValueError\u001b[0m: invalid literal for int() with base 10: 'abcd'"
     ]
    }
   ],
   "source": [
    "i2 = int(\"abcd\")"
   ]
  },
  {
   "cell_type": "code",
   "execution_count": null,
   "id": "38e1b5c1",
   "metadata": {},
   "outputs": [],
   "source": []
  },
  {
   "cell_type": "markdown",
   "id": "f414527f",
   "metadata": {},
   "source": [
    "#### Convert int to string"
   ]
  },
  {
   "cell_type": "code",
   "execution_count": 66,
   "id": "fb5f0bf3",
   "metadata": {},
   "outputs": [
    {
     "name": "stdout",
     "output_type": "stream",
     "text": [
      "739257 <class 'str'>\n"
     ]
    }
   ],
   "source": [
    "x = 739257\n",
    "s = str(x)    # s = \"739257\"\n",
    "print(s, type(s))"
   ]
  },
  {
   "cell_type": "code",
   "execution_count": null,
   "id": "baf4ddea",
   "metadata": {},
   "outputs": [],
   "source": []
  },
  {
   "cell_type": "code",
   "execution_count": 70,
   "id": "74afe755",
   "metadata": {},
   "outputs": [
    {
     "name": "stdout",
     "output_type": "stream",
     "text": [
      "1.2 1\n"
     ]
    }
   ],
   "source": [
    "a = 1.2\n",
    "b = int(a)\n",
    "print(a,b)"
   ]
  },
  {
   "cell_type": "code",
   "execution_count": null,
   "id": "3f81ce9f",
   "metadata": {},
   "outputs": [],
   "source": []
  },
  {
   "cell_type": "code",
   "execution_count": null,
   "id": "2ae309f2",
   "metadata": {},
   "outputs": [],
   "source": []
  },
  {
   "cell_type": "markdown",
   "id": "726fa329",
   "metadata": {},
   "source": [
    "### Convert float to str"
   ]
  },
  {
   "cell_type": "code",
   "execution_count": 68,
   "id": "9572bd62",
   "metadata": {},
   "outputs": [],
   "source": [
    "s2 = str(8.2384)"
   ]
  },
  {
   "cell_type": "code",
   "execution_count": 69,
   "id": "1f8d8b87",
   "metadata": {},
   "outputs": [
    {
     "data": {
      "text/plain": [
       "'8.2384'"
      ]
     },
     "execution_count": 69,
     "metadata": {},
     "output_type": "execute_result"
    }
   ],
   "source": [
    "s2"
   ]
  },
  {
   "cell_type": "markdown",
   "id": "00c5c664",
   "metadata": {},
   "source": []
  },
  {
   "cell_type": "code",
   "execution_count": 72,
   "id": "941bbf0c",
   "metadata": {},
   "outputs": [],
   "source": [
    "a = int(float(\"1.2\"))\n",
    "# a = int(1.2)"
   ]
  },
  {
   "cell_type": "code",
   "execution_count": 73,
   "id": "65de765e",
   "metadata": {},
   "outputs": [
    {
     "data": {
      "text/plain": [
       "1"
      ]
     },
     "execution_count": 73,
     "metadata": {},
     "output_type": "execute_result"
    }
   ],
   "source": [
    "a"
   ]
  },
  {
   "cell_type": "markdown",
   "id": "504a30b2",
   "metadata": {},
   "source": [
    "## Range of numbers\n",
    "\n",
    "Python doesn't have any range on its numbers"
   ]
  },
  {
   "cell_type": "code",
   "execution_count": null,
   "id": "df15c62f",
   "metadata": {},
   "outputs": [],
   "source": []
  },
  {
   "cell_type": "code",
   "execution_count": null,
   "id": "95bf5d23",
   "metadata": {},
   "outputs": [],
   "source": []
  },
  {
   "cell_type": "code",
   "execution_count": null,
   "id": "8b4b604b",
   "metadata": {},
   "outputs": [],
   "source": []
  },
  {
   "cell_type": "code",
   "execution_count": null,
   "id": "94233ecb",
   "metadata": {},
   "outputs": [],
   "source": []
  },
  {
   "cell_type": "code",
   "execution_count": null,
   "id": "750a838c",
   "metadata": {},
   "outputs": [],
   "source": []
  },
  {
   "cell_type": "markdown",
   "id": "e82dda52",
   "metadata": {},
   "source": [
    "# Operators"
   ]
  },
  {
   "cell_type": "code",
   "execution_count": 75,
   "id": "71a610fa",
   "metadata": {},
   "outputs": [],
   "source": [
    "a = 5 + 2\n",
    "# Addition Operator"
   ]
  },
  {
   "cell_type": "code",
   "execution_count": 76,
   "id": "afee3b3c",
   "metadata": {},
   "outputs": [
    {
     "data": {
      "text/plain": [
       "7"
      ]
     },
     "execution_count": 76,
     "metadata": {},
     "output_type": "execute_result"
    }
   ],
   "source": [
    "a"
   ]
  },
  {
   "cell_type": "code",
   "execution_count": null,
   "id": "7ea41341",
   "metadata": {},
   "outputs": [],
   "source": [
    "a = 5 - 2 # Subtraction   -> 3\n",
    "a = 5 * 2 # Multiplication   -> 10\n",
    "a = 5 / 2 # Division \n",
    "a = 5 // 2 # Division .... but only the integer part\n",
    "a = 5 % 2  # Modulo (Remainder)  -> 1\n"
   ]
  },
  {
   "cell_type": "code",
   "execution_count": 77,
   "id": "ae8a62b3",
   "metadata": {},
   "outputs": [],
   "source": [
    "a = 5 ** 2 # Power operator / exponent"
   ]
  },
  {
   "cell_type": "code",
   "execution_count": 78,
   "id": "17576347",
   "metadata": {},
   "outputs": [
    {
     "data": {
      "text/plain": [
       "25"
      ]
     },
     "execution_count": 78,
     "metadata": {},
     "output_type": "execute_result"
    }
   ],
   "source": [
    "a"
   ]
  },
  {
   "cell_type": "code",
   "execution_count": 79,
   "id": "ca4e224d",
   "metadata": {},
   "outputs": [
    {
     "data": {
      "text/plain": [
       "10000000000"
      ]
     },
     "execution_count": 79,
     "metadata": {},
     "output_type": "execute_result"
    }
   ],
   "source": [
    "10 ** 10"
   ]
  },
  {
   "cell_type": "code",
   "execution_count": 80,
   "id": "a78a4428",
   "metadata": {},
   "outputs": [],
   "source": [
    "a = 5 / 2"
   ]
  },
  {
   "cell_type": "code",
   "execution_count": 81,
   "id": "cf1e28e6",
   "metadata": {},
   "outputs": [
    {
     "data": {
      "text/plain": [
       "2.5"
      ]
     },
     "execution_count": 81,
     "metadata": {},
     "output_type": "execute_result"
    }
   ],
   "source": [
    "a"
   ]
  },
  {
   "cell_type": "code",
   "execution_count": 82,
   "id": "c9730139",
   "metadata": {},
   "outputs": [],
   "source": [
    "a = 5 // 2"
   ]
  },
  {
   "cell_type": "code",
   "execution_count": 83,
   "id": "a94f9498",
   "metadata": {},
   "outputs": [
    {
     "data": {
      "text/plain": [
       "2"
      ]
     },
     "execution_count": 83,
     "metadata": {},
     "output_type": "execute_result"
    }
   ],
   "source": [
    "a"
   ]
  },
  {
   "cell_type": "code",
   "execution_count": 84,
   "id": "97d638ab",
   "metadata": {},
   "outputs": [
    {
     "data": {
      "text/plain": [
       "1"
      ]
     },
     "execution_count": 84,
     "metadata": {},
     "output_type": "execute_result"
    }
   ],
   "source": [
    "5 % 2"
   ]
  },
  {
   "cell_type": "code",
   "execution_count": 86,
   "id": "a6fc76bd",
   "metadata": {},
   "outputs": [],
   "source": [
    "x = 10 ** (1/2)    # Square root"
   ]
  },
  {
   "cell_type": "code",
   "execution_count": null,
   "id": "9aa1004e",
   "metadata": {},
   "outputs": [],
   "source": [
    "print(x)"
   ]
  },
  {
   "cell_type": "code",
   "execution_count": null,
   "id": "f2bf0825",
   "metadata": {},
   "outputs": [],
   "source": []
  },
  {
   "cell_type": "code",
   "execution_count": null,
   "id": "fc446062",
   "metadata": {},
   "outputs": [],
   "source": []
  },
  {
   "cell_type": "code",
   "execution_count": 87,
   "id": "fdda73fa",
   "metadata": {},
   "outputs": [
    {
     "data": {
      "text/plain": [
       "125"
      ]
     },
     "execution_count": 87,
     "metadata": {},
     "output_type": "execute_result"
    }
   ],
   "source": [
    "5 ** 3"
   ]
  },
  {
   "cell_type": "code",
   "execution_count": null,
   "id": "ac004bf5",
   "metadata": {},
   "outputs": [],
   "source": []
  },
  {
   "cell_type": "code",
   "execution_count": null,
   "id": "695c238d",
   "metadata": {},
   "outputs": [],
   "source": []
  },
  {
   "cell_type": "code",
   "execution_count": null,
   "id": "97127aa4",
   "metadata": {},
   "outputs": [],
   "source": []
  }
 ],
 "metadata": {
  "kernelspec": {
   "display_name": "Python 3 (ipykernel)",
   "language": "python",
   "name": "python3"
  },
  "language_info": {
   "codemirror_mode": {
    "name": "ipython",
    "version": 3
   },
   "file_extension": ".py",
   "mimetype": "text/x-python",
   "name": "python",
   "nbconvert_exporter": "python",
   "pygments_lexer": "ipython3",
   "version": "3.9.7"
  }
 },
 "nbformat": 4,
 "nbformat_minor": 5
}
