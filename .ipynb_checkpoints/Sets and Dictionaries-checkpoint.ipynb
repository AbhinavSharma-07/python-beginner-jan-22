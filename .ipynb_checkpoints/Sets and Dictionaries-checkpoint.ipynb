{
  "cells": [
    {
      "cell_type": "markdown",
      "id": "70142c11",
      "metadata": {
        "id": "70142c11"
      },
      "source": [
        "# Sets\n",
        "- Set is an unordered collection of items, where every element is unique and immutable. However, the set itself is mutable.\n",
        "- There are two ways of creating a set\n",
        "    - Putting all the elements inside curly braces `{` and `}`\n",
        "    - Using `set()` method.\n",
        "- Adding elements to set - `add()`, `update()`\n",
        "- Removing elements from set - `remove()`, `discard()`\n",
        "- Python sets allow fast insertion, deletion and searching."
      ]
    },
    {
      "cell_type": "markdown",
      "id": "2d183cb2",
      "metadata": {
        "id": "2d183cb2"
      },
      "source": [
        "![1_WMiNIQ9THariDSJw47uU1w.png](attachment:1_WMiNIQ9THariDSJw47uU1w.png)"
      ]
    },
    {
      "cell_type": "code",
      "execution_count": null,
      "id": "14b787f7",
      "metadata": {
        "id": "14b787f7"
      },
      "outputs": [],
      "source": [
        "s = {1, 4, 0, 2, 3, 100, 50, 22, 46, -9, -3, -2, 'hello', 'world'}"
      ]
    },
    {
      "cell_type": "code",
      "execution_count": null,
      "id": "d513facb",
      "metadata": {
        "id": "d513facb",
        "outputId": "f5704c0e-26cd-4737-e215-627650e1fd45"
      },
      "outputs": [
        {
          "data": {
            "text/plain": [
              "set"
            ]
          },
          "execution_count": 8,
          "metadata": {},
          "output_type": "execute_result"
        }
      ],
      "source": [
        "type(s)"
      ]
    },
    {
      "cell_type": "code",
      "execution_count": null,
      "id": "f506c8e5",
      "metadata": {
        "id": "f506c8e5",
        "outputId": "e3f0c547-796d-4902-d7d1-38577c12b2de"
      },
      "outputs": [
        {
          "data": {
            "text/plain": [
              "{-2, -3, -9, 0, 1, 100, 2, 22, 3, 4, 46, 50, 'hello', 'world'}"
            ]
          },
          "execution_count": 9,
          "metadata": {},
          "output_type": "execute_result"
        }
      ],
      "source": [
        "s"
      ]
    },
    {
      "cell_type": "code",
      "execution_count": null,
      "id": "4f92ab53",
      "metadata": {
        "id": "4f92ab53"
      },
      "outputs": [],
      "source": [
        "# Insertion, deletion, searching in a set - O(1) time\n",
        "# A constant number of operations"
      ]
    },
    {
      "cell_type": "code",
      "execution_count": null,
      "id": "9734c005",
      "metadata": {
        "id": "9734c005",
        "outputId": "8f6759ab-9663-45d9-a5d6-98e8cef57c5f"
      },
      "outputs": [
        {
          "name": "stdout",
          "output_type": "stream",
          "text": [
            "4 is in the set\n"
          ]
        }
      ],
      "source": [
        "if 4 in s:\n",
        "    print(\"4 is in the set\")"
      ]
    },
    {
      "cell_type": "code",
      "execution_count": null,
      "id": "0a08b321",
      "metadata": {
        "id": "0a08b321"
      },
      "outputs": [],
      "source": [
        "s.add(0)"
      ]
    },
    {
      "cell_type": "code",
      "execution_count": null,
      "id": "ef3234e0",
      "metadata": {
        "id": "ef3234e0",
        "outputId": "231cad1b-7a3e-4fdd-b8a9-766d235deca5"
      },
      "outputs": [
        {
          "data": {
            "text/plain": [
              "{-2, -3, -9, 0, 1, 100, 2, 22, 3, 4, 46, 50, 'hello', 'world'}"
            ]
          },
          "execution_count": 12,
          "metadata": {},
          "output_type": "execute_result"
        }
      ],
      "source": [
        "s"
      ]
    },
    {
      "cell_type": "code",
      "execution_count": null,
      "id": "3ae54557",
      "metadata": {
        "id": "3ae54557"
      },
      "outputs": [],
      "source": [
        "s.update([500, 600, 700, 800])"
      ]
    },
    {
      "cell_type": "code",
      "execution_count": null,
      "id": "562291cb",
      "metadata": {
        "id": "562291cb",
        "outputId": "1ac757bb-9e99-46fd-8d7e-7281b13ce73b"
      },
      "outputs": [
        {
          "data": {
            "text/plain": [
              "{-2,\n",
              " -3,\n",
              " -9,\n",
              " 0,\n",
              " 1,\n",
              " 100,\n",
              " 2,\n",
              " 22,\n",
              " 3,\n",
              " 4,\n",
              " 46,\n",
              " 50,\n",
              " 500,\n",
              " 600,\n",
              " 700,\n",
              " 800,\n",
              " 'hello',\n",
              " 'world'}"
            ]
          },
          "execution_count": 14,
          "metadata": {},
          "output_type": "execute_result"
        }
      ],
      "source": [
        "s"
      ]
    },
    {
      "cell_type": "code",
      "execution_count": null,
      "id": "5521be0b",
      "metadata": {
        "id": "5521be0b"
      },
      "outputs": [],
      "source": [
        "s.remove(600)"
      ]
    },
    {
      "cell_type": "code",
      "execution_count": null,
      "id": "1507f793",
      "metadata": {
        "id": "1507f793",
        "outputId": "ac91e96e-aa2f-4736-9bbd-ae3c7933d674"
      },
      "outputs": [
        {
          "data": {
            "text/plain": [
              "{-2, -3, -9, 0, 1, 100, 2, 22, 3, 4, 46, 50, 500, 700, 800, 'hello', 'world'}"
            ]
          },
          "execution_count": 16,
          "metadata": {},
          "output_type": "execute_result"
        }
      ],
      "source": [
        "s"
      ]
    },
    {
      "cell_type": "code",
      "execution_count": null,
      "id": "f4aa9bb1",
      "metadata": {
        "id": "f4aa9bb1",
        "outputId": "72c5a038-b03f-49d2-c7c3-945b67b69485"
      },
      "outputs": [
        {
          "ename": "KeyError",
          "evalue": "650",
          "output_type": "error",
          "traceback": [
            "\u001b[0;31m---------------------------------------------------------------------------\u001b[0m",
            "\u001b[0;31mKeyError\u001b[0m                                  Traceback (most recent call last)",
            "\u001b[0;32m/var/folders/jn/1bsrct314hv5xmfm7vrcdrzc0000gn/T/ipykernel_4163/1209813310.py\u001b[0m in \u001b[0;36m<module>\u001b[0;34m\u001b[0m\n\u001b[0;32m----> 1\u001b[0;31m \u001b[0ms\u001b[0m\u001b[0;34m.\u001b[0m\u001b[0mremove\u001b[0m\u001b[0;34m(\u001b[0m\u001b[0;36m650\u001b[0m\u001b[0;34m)\u001b[0m\u001b[0;34m\u001b[0m\u001b[0;34m\u001b[0m\u001b[0m\n\u001b[0m",
            "\u001b[0;31mKeyError\u001b[0m: 650"
          ]
        }
      ],
      "source": [
        "s.remove(650)"
      ]
    },
    {
      "cell_type": "code",
      "execution_count": null,
      "id": "e2c790e0",
      "metadata": {
        "id": "e2c790e0"
      },
      "outputs": [],
      "source": [
        "s.discard(500)"
      ]
    },
    {
      "cell_type": "code",
      "execution_count": null,
      "id": "9c4e3cc2",
      "metadata": {
        "id": "9c4e3cc2",
        "outputId": "efb6ca5d-6224-4667-9cd9-5cb16f75cc13"
      },
      "outputs": [
        {
          "data": {
            "text/plain": [
              "{-2, -3, -9, 0, 1, 100, 2, 22, 3, 4, 46, 50, 700, 800, 'hello', 'world'}"
            ]
          },
          "execution_count": 21,
          "metadata": {},
          "output_type": "execute_result"
        }
      ],
      "source": [
        "s"
      ]
    },
    {
      "cell_type": "code",
      "execution_count": null,
      "id": "3145dfd2",
      "metadata": {
        "id": "3145dfd2"
      },
      "outputs": [],
      "source": [
        "s.discard(1000)"
      ]
    },
    {
      "cell_type": "code",
      "execution_count": null,
      "id": "8c9b60e1",
      "metadata": {
        "id": "8c9b60e1",
        "outputId": "bcf83bcc-5787-4006-a0d9-32690a32a5cb"
      },
      "outputs": [
        {
          "data": {
            "text/plain": [
              "{-2, -3, -9, 0, 1, 100, 2, 22, 3, 4, 46, 50, 700, 800, 'hello', 'world'}"
            ]
          },
          "execution_count": 23,
          "metadata": {},
          "output_type": "execute_result"
        }
      ],
      "source": [
        "s"
      ]
    },
    {
      "cell_type": "code",
      "execution_count": null,
      "id": "03eedf43",
      "metadata": {
        "id": "03eedf43"
      },
      "outputs": [],
      "source": [
        "s = {\n",
        "    'Hello',\n",
        "    2,\n",
        "    5.6,\n",
        "    (2,5,8)\n",
        "}"
      ]
    },
    {
      "cell_type": "code",
      "execution_count": null,
      "id": "8e9ae4c7",
      "metadata": {
        "id": "8e9ae4c7",
        "outputId": "60716a0b-5598-4954-f828-bba40173e1cc"
      },
      "outputs": [
        {
          "data": {
            "text/plain": [
              "{(2, 5, 8), 2, 5.6, 'Hello'}"
            ]
          },
          "execution_count": 34,
          "metadata": {},
          "output_type": "execute_result"
        }
      ],
      "source": [
        "s"
      ]
    },
    {
      "cell_type": "code",
      "execution_count": null,
      "id": "de93b60e",
      "metadata": {
        "id": "de93b60e"
      },
      "outputs": [],
      "source": [
        ""
      ]
    },
    {
      "cell_type": "code",
      "execution_count": null,
      "id": "4b89a6db",
      "metadata": {
        "id": "4b89a6db"
      },
      "outputs": [],
      "source": [
        ""
      ]
    },
    {
      "cell_type": "markdown",
      "id": "fe41bd30",
      "metadata": {
        "id": "fe41bd30"
      },
      "source": [
        "### Make a list of unique tv shows compiling from all your friends' favourite tv shows"
      ]
    },
    {
      "cell_type": "code",
      "execution_count": null,
      "id": "3aa6e1af",
      "metadata": {
        "id": "3aa6e1af"
      },
      "outputs": [],
      "source": [
        "friend1 = [\n",
        "    'How I Met Your Mother',\n",
        "    'Breaking Bad',\n",
        "    'The Wire'\n",
        "]\n",
        "\n",
        "friend2 = [\n",
        "    'Breaking Bad',\n",
        "    'Westworld',\n",
        "    'The Office'\n",
        "]\n",
        "\n",
        "friend3 = [\n",
        "    'Sopranos',\n",
        "    'Game of Thrones',\n",
        "    'Sherlock'\n",
        "]\n",
        "\n",
        "friend4 = [\n",
        "    'Friends',\n",
        "    'Sherlock',\n",
        "    'Daredevil'\n",
        "]"
      ]
    },
    {
      "cell_type": "code",
      "execution_count": null,
      "id": "d44d0147",
      "metadata": {
        "id": "d44d0147"
      },
      "outputs": [],
      "source": [
        "s = set()\n",
        "s.update(friend1, friend2, friend3, friend4)"
      ]
    },
    {
      "cell_type": "code",
      "execution_count": null,
      "id": "b3d39d7a",
      "metadata": {
        "id": "b3d39d7a",
        "outputId": "b5c5cd67-4472-4bbe-b035-cdefa72f897d"
      },
      "outputs": [
        {
          "name": "stdout",
          "output_type": "stream",
          "text": [
            "The Office, Sherlock, Friends, Sopranos, Breaking Bad, Daredevil, The Wire, How I Met Your Mother, Westworld, Game of Thrones, "
          ]
        }
      ],
      "source": [
        "for tv_series in s:\n",
        "    print(tv_series, end=', ')"
      ]
    },
    {
      "cell_type": "code",
      "execution_count": null,
      "id": "a6335505",
      "metadata": {
        "id": "a6335505"
      },
      "outputs": [],
      "source": [
        ""
      ]
    },
    {
      "cell_type": "markdown",
      "id": "2eedcba8",
      "metadata": {
        "id": "2eedcba8"
      },
      "source": [
        "### A fifth friend comes along and produces his tv show list. He wants to check which of the shows you have in common with his list."
      ]
    },
    {
      "cell_type": "code",
      "execution_count": null,
      "id": "b72e06fb",
      "metadata": {
        "id": "b72e06fb"
      },
      "outputs": [],
      "source": [
        "friend5 = [\n",
        "    'The Office',\n",
        "    'Doctor Who',\n",
        "    'Peaky Blinders'\n",
        "]"
      ]
    },
    {
      "cell_type": "code",
      "execution_count": null,
      "id": "5839c5cc",
      "metadata": {
        "id": "5839c5cc",
        "outputId": "d769b775-5e43-49b6-949a-a05b9dd13a81"
      },
      "outputs": [
        {
          "name": "stdout",
          "output_type": "stream",
          "text": [
            "The Office\n"
          ]
        }
      ],
      "source": [
        "for tv in friend5:\n",
        "#     searching for tv series in the set\n",
        "    if tv in s:\n",
        "        print(tv)"
      ]
    },
    {
      "cell_type": "code",
      "execution_count": null,
      "id": "fd1181ea",
      "metadata": {
        "id": "fd1181ea"
      },
      "outputs": [],
      "source": [
        ""
      ]
    },
    {
      "cell_type": "code",
      "execution_count": null,
      "id": "c76f6eca",
      "metadata": {
        "id": "c76f6eca"
      },
      "outputs": [],
      "source": [
        ""
      ]
    },
    {
      "cell_type": "code",
      "execution_count": null,
      "id": "ce77f340",
      "metadata": {
        "id": "ce77f340"
      },
      "outputs": [],
      "source": [
        ""
      ]
    },
    {
      "cell_type": "code",
      "execution_count": null,
      "id": "de55e687",
      "metadata": {
        "id": "de55e687"
      },
      "outputs": [],
      "source": [
        ""
      ]
    },
    {
      "cell_type": "code",
      "execution_count": null,
      "id": "083b2adf",
      "metadata": {
        "id": "083b2adf"
      },
      "outputs": [],
      "source": [
        ""
      ]
    },
    {
      "cell_type": "code",
      "execution_count": null,
      "id": "2d855e20",
      "metadata": {
        "id": "2d855e20"
      },
      "outputs": [],
      "source": [
        ""
      ]
    },
    {
      "cell_type": "code",
      "execution_count": null,
      "id": "c02d55af",
      "metadata": {
        "id": "c02d55af"
      },
      "outputs": [],
      "source": [
        ""
      ]
    },
    {
      "cell_type": "code",
      "execution_count": null,
      "id": "6a0e93cd",
      "metadata": {
        "id": "6a0e93cd"
      },
      "outputs": [],
      "source": [
        ""
      ]
    },
    {
      "cell_type": "code",
      "execution_count": null,
      "id": "77af28b3",
      "metadata": {
        "id": "77af28b3"
      },
      "outputs": [],
      "source": [
        ""
      ]
    },
    {
      "cell_type": "code",
      "execution_count": null,
      "id": "768120b1",
      "metadata": {
        "id": "768120b1"
      },
      "outputs": [],
      "source": [
        ""
      ]
    },
    {
      "cell_type": "code",
      "execution_count": null,
      "id": "237430b1",
      "metadata": {
        "id": "237430b1"
      },
      "outputs": [],
      "source": [
        ""
      ]
    },
    {
      "cell_type": "code",
      "execution_count": null,
      "id": "043c9945",
      "metadata": {
        "id": "043c9945"
      },
      "outputs": [],
      "source": [
        ""
      ]
    },
    {
      "cell_type": "markdown",
      "id": "05997ab8",
      "metadata": {
        "id": "05997ab8"
      },
      "source": [
        "# Dictionaries"
      ]
    },
    {
      "cell_type": "markdown",
      "id": "65cb9ac2",
      "metadata": {
        "id": "65cb9ac2"
      },
      "source": [
        "- They are used to store data in a key-value pair format.\n",
        "- The keys are always unique within a dictionary.\n",
        "- The values of the Python dictionary may or may not be unique.\n",
        "- The values within a dictionary can be of any data type but the thing to note is that the keys are immutable. Hence, the key can only be strings, numbers or tuples.\n",
        "- Dictionaries can be created using the `dict() `constructor or with curly brackets - `{}`\n",
        "- Dictionaries also use **Hashing** to store the data"
      ]
    },
    {
      "cell_type": "markdown",
      "id": "4833f24d",
      "metadata": {
        "id": "4833f24d"
      },
      "source": [
        "<img src=\"https://media.giphy.com/media/l2Je66zG6mAAZxgqI/giphy.gif\" width=\"280\" />"
      ]
    },
    {
      "cell_type": "code",
      "execution_count": null,
      "id": "aa851444",
      "metadata": {
        "id": "aa851444"
      },
      "outputs": [],
      "source": [
        "currency = dict()"
      ]
    },
    {
      "cell_type": "code",
      "execution_count": null,
      "id": "a823bd6a",
      "metadata": {
        "id": "a823bd6a"
      },
      "outputs": [],
      "source": [
        "currency = {}"
      ]
    },
    {
      "cell_type": "code",
      "execution_count": null,
      "id": "52b27a05",
      "metadata": {
        "id": "52b27a05"
      },
      "outputs": [],
      "source": [
        "currency = {\n",
        "    'India': 'Rupee',\n",
        "    'USA': 'Dollar',\n",
        "    'Japan': 'Yen',\n",
        "    'Spain': 'Euro',\n",
        "    'Italy': 'Euro'\n",
        "}"
      ]
    },
    {
      "cell_type": "code",
      "execution_count": null,
      "id": "c812527e",
      "metadata": {
        "id": "c812527e",
        "outputId": "a89f69ee-57ce-447e-a100-f26d0d6d7d6e"
      },
      "outputs": [
        {
          "data": {
            "text/plain": [
              "{'India': 'Rupee',\n",
              " 'USA': 'Dollar',\n",
              " 'Japan': 'Yen',\n",
              " 'Spain': 'Euro',\n",
              " 'Italy': 'Euro'}"
            ]
          },
          "execution_count": 56,
          "metadata": {},
          "output_type": "execute_result"
        }
      ],
      "source": [
        "currency"
      ]
    },
    {
      "cell_type": "code",
      "execution_count": null,
      "id": "d39ff230",
      "metadata": {
        "id": "d39ff230",
        "outputId": "2c47c45c-1480-4610-b143-ec908b972f0d"
      },
      "outputs": [
        {
          "data": {
            "text/plain": [
              "dict"
            ]
          },
          "execution_count": 58,
          "metadata": {},
          "output_type": "execute_result"
        }
      ],
      "source": [
        "type(currency)"
      ]
    },
    {
      "cell_type": "code",
      "execution_count": null,
      "id": "64ce24d9",
      "metadata": {
        "id": "64ce24d9",
        "outputId": "069eb9ea-86b1-4765-80b6-5bd7e6ef006b"
      },
      "outputs": [
        {
          "data": {
            "text/plain": [
              "'Rupee'"
            ]
          },
          "execution_count": 59,
          "metadata": {},
          "output_type": "execute_result"
        }
      ],
      "source": [
        "currency['India']"
      ]
    },
    {
      "cell_type": "code",
      "execution_count": null,
      "id": "e5ed2c29",
      "metadata": {
        "id": "e5ed2c29"
      },
      "outputs": [],
      "source": [
        "currency['USA'] = 'USD'"
      ]
    },
    {
      "cell_type": "code",
      "execution_count": null,
      "id": "255c2f76",
      "metadata": {
        "id": "255c2f76",
        "outputId": "efcac4a6-90c1-4b31-f488-754c0c694b06"
      },
      "outputs": [
        {
          "data": {
            "text/plain": [
              "{'India': 'Rupee',\n",
              " 'USA': 'USD',\n",
              " 'Japan': 'Yen',\n",
              " 'Spain': 'Euro',\n",
              " 'Italy': 'Euro'}"
            ]
          },
          "execution_count": 61,
          "metadata": {},
          "output_type": "execute_result"
        }
      ],
      "source": [
        "currency"
      ]
    },
    {
      "cell_type": "code",
      "execution_count": null,
      "id": "d0d4cb02",
      "metadata": {
        "id": "d0d4cb02"
      },
      "outputs": [],
      "source": [
        "t = (1,2,3)\n",
        "\n",
        "currency[t] = 'ok'"
      ]
    },
    {
      "cell_type": "code",
      "execution_count": null,
      "id": "d8b6f81f",
      "metadata": {
        "id": "d8b6f81f",
        "outputId": "8c21af35-dc53-42f3-9860-19ad1f1ad744"
      },
      "outputs": [
        {
          "data": {
            "text/plain": [
              "{'India': 'Rupee',\n",
              " 'USA': 'USD',\n",
              " 'Japan': 'Yen',\n",
              " 'Spain': 'Euro',\n",
              " 'Italy': 'Euro',\n",
              " (1, 2, 3): 'ok'}"
            ]
          },
          "execution_count": 64,
          "metadata": {},
          "output_type": "execute_result"
        }
      ],
      "source": [
        "currency"
      ]
    },
    {
      "cell_type": "code",
      "execution_count": null,
      "id": "5436246d",
      "metadata": {
        "id": "5436246d"
      },
      "outputs": [],
      "source": [
        "del currency[(1, 2, 3)]"
      ]
    },
    {
      "cell_type": "code",
      "execution_count": null,
      "id": "344c6bc7",
      "metadata": {
        "id": "344c6bc7",
        "outputId": "546cc696-efd1-4c40-bd48-6f91a7449e01"
      },
      "outputs": [
        {
          "data": {
            "text/plain": [
              "{'India': 'Rupee',\n",
              " 'USA': 'USD',\n",
              " 'Japan': 'Yen',\n",
              " 'Spain': 'Euro',\n",
              " 'Italy': 'Euro'}"
            ]
          },
          "execution_count": 66,
          "metadata": {},
          "output_type": "execute_result"
        }
      ],
      "source": [
        "currency"
      ]
    },
    {
      "cell_type": "code",
      "execution_count": null,
      "id": "5ff28cad",
      "metadata": {
        "id": "5ff28cad"
      },
      "outputs": [],
      "source": [
        "currency['El Salvador'] = set(['USD', 'Bitcoin'])"
      ]
    },
    {
      "cell_type": "code",
      "execution_count": null,
      "id": "17ac9010",
      "metadata": {
        "id": "17ac9010",
        "outputId": "3561cebd-8730-47d4-ed70-6bc63b4ba975"
      },
      "outputs": [
        {
          "data": {
            "text/plain": [
              "{'India': 'Rupee',\n",
              " 'USA': 'USD',\n",
              " 'Japan': 'Yen',\n",
              " 'Spain': 'Euro',\n",
              " 'Italy': 'Euro',\n",
              " 'El Salvador': {'Bitcoin', 'USD'}}"
            ]
          },
          "execution_count": 73,
          "metadata": {},
          "output_type": "execute_result"
        }
      ],
      "source": [
        "currency"
      ]
    },
    {
      "cell_type": "code",
      "execution_count": null,
      "id": "676a53ee",
      "metadata": {
        "id": "676a53ee"
      },
      "outputs": [],
      "source": [
        "currency[None] = 'ok'"
      ]
    },
    {
      "cell_type": "code",
      "execution_count": null,
      "id": "2490c582",
      "metadata": {
        "id": "2490c582",
        "outputId": "d46b2ffe-d809-43b5-fd41-b44d3a1fa769"
      },
      "outputs": [
        {
          "data": {
            "text/plain": [
              "{'India': 'Rupee',\n",
              " 'USA': 'USD',\n",
              " 'Japan': 'Yen',\n",
              " 'Spain': 'Euro',\n",
              " 'Italy': 'Euro',\n",
              " 'El Salvador': {'Bitcoin', 'USD'},\n",
              " None: 'ok'}"
            ]
          },
          "execution_count": 75,
          "metadata": {},
          "output_type": "execute_result"
        }
      ],
      "source": [
        "currency"
      ]
    },
    {
      "cell_type": "code",
      "execution_count": null,
      "id": "ccc4a701",
      "metadata": {
        "id": "ccc4a701"
      },
      "outputs": [],
      "source": [
        ""
      ]
    },
    {
      "cell_type": "code",
      "execution_count": null,
      "id": "d47d1a13",
      "metadata": {
        "id": "d47d1a13"
      },
      "outputs": [],
      "source": [
        "menu = {\n",
        "    'Dal Makhani': 200,\n",
        "    'Shahi Paneer': 150,\n",
        "    'Naan': 45,\n",
        "    'Roti': 30,\n",
        "    'Rice': 100\n",
        "}"
      ]
    },
    {
      "cell_type": "markdown",
      "id": "927b74ac",
      "metadata": {
        "id": "927b74ac"
      },
      "source": [
        "### Order ?\n",
        "Is order maintained in Python Dictionaries ?\n",
        "\n",
        "All Python versions <= 3.6      -> unordered dictionaries\n",
        "All Python versions >= 3.7      -> ordered dictionaries"
      ]
    },
    {
      "cell_type": "code",
      "execution_count": null,
      "id": "985e9930",
      "metadata": {
        "id": "985e9930"
      },
      "outputs": [],
      "source": [
        ""
      ]
    },
    {
      "cell_type": "markdown",
      "id": "b55f058d",
      "metadata": {
        "id": "b55f058d"
      },
      "source": [
        "## Iterating over a dictionary"
      ]
    },
    {
      "cell_type": "code",
      "execution_count": null,
      "id": "ac4b0bac",
      "metadata": {
        "id": "ac4b0bac",
        "outputId": "76c00cd1-f6dd-4297-d9fb-d24585796c09"
      },
      "outputs": [
        {
          "data": {
            "text/plain": [
              "{'Dal Makhani': 200, 'Shahi Paneer': 150, 'Naan': 45, 'Roti': 30, 'Rice': 100}"
            ]
          },
          "execution_count": 77,
          "metadata": {},
          "output_type": "execute_result"
        }
      ],
      "source": [
        "menu"
      ]
    },
    {
      "cell_type": "code",
      "execution_count": null,
      "id": "eebb1421",
      "metadata": {
        "id": "eebb1421",
        "outputId": "16433ea5-8949-400d-faa6-4cc9e193bb0e"
      },
      "outputs": [
        {
          "data": {
            "text/plain": [
              "dict_keys(['Dal Makhani', 'Shahi Paneer', 'Naan', 'Roti', 'Rice'])"
            ]
          },
          "execution_count": 78,
          "metadata": {},
          "output_type": "execute_result"
        }
      ],
      "source": [
        "menu.keys()"
      ]
    },
    {
      "cell_type": "code",
      "execution_count": null,
      "id": "a9b9bd9e",
      "metadata": {
        "id": "a9b9bd9e",
        "outputId": "07868c09-f4a6-47ba-a29e-ccdc7960c62e"
      },
      "outputs": [
        {
          "data": {
            "text/plain": [
              "dict_values([200, 150, 45, 30, 100])"
            ]
          },
          "execution_count": 79,
          "metadata": {},
          "output_type": "execute_result"
        }
      ],
      "source": [
        "menu.values()"
      ]
    },
    {
      "cell_type": "code",
      "execution_count": null,
      "id": "7b690c12",
      "metadata": {
        "id": "7b690c12"
      },
      "outputs": [],
      "source": [
        ""
      ]
    },
    {
      "cell_type": "code",
      "execution_count": null,
      "id": "fbd7cb1c",
      "metadata": {
        "id": "fbd7cb1c"
      },
      "outputs": [],
      "source": [
        ""
      ]
    },
    {
      "cell_type": "code",
      "execution_count": null,
      "id": "8c587804",
      "metadata": {
        "id": "8c587804"
      },
      "outputs": [],
      "source": [
        ""
      ]
    },
    {
      "cell_type": "markdown",
      "id": "3227b09c",
      "metadata": {
        "id": "3227b09c"
      },
      "source": [
        "## Challenge - Check Palindrome!\n",
        "https://www.interviewbit.com/problems/check-palindrome/"
      ]
    },
    {
      "cell_type": "code",
      "execution_count": null,
      "id": "38fee609",
      "metadata": {
        "id": "38fee609"
      },
      "outputs": [],
      "source": [
        "def solve(A):\n",
        "    # declare a frequency map (dictionary)\n",
        "    freq = {}\n",
        "\n",
        "    # O(n) time\n",
        "    for char in A:\n",
        "        if char in freq:\n",
        "            freq[char] += 1\n",
        "        else:\n",
        "            freq[char] = 1\n",
        "        print(freq)\n",
        "\n",
        "    # Freq map created\n",
        "\n",
        "\n",
        "    odd_frequencies = 0\n",
        "\n",
        "    # O(n)\n",
        "    for frequency in freq.values():\n",
        "        if frequency % 2 == 1:\n",
        "            odd_frequencies += 1\n",
        "\n",
        "\n",
        "    if odd_frequencies <= 1:\n",
        "        return 1\n",
        "    else:\n",
        "        return 0\n",
        "    \n",
        "    \n",
        "# time complexity - O(n)"
      ]
    },
    {
      "cell_type": "code",
      "execution_count": null,
      "id": "be6ad7c4",
      "metadata": {
        "id": "be6ad7c4",
        "outputId": "62510154-bfea-4d67-81d3-e15cf4dd41df"
      },
      "outputs": [
        {
          "name": "stdout",
          "output_type": "stream",
          "text": [
            "{'a': 1}\n",
            "{'a': 1, 'b': 1}\n",
            "{'a': 2, 'b': 1}\n",
            "{'a': 2, 'b': 2}\n",
            "{'a': 2, 'b': 2, 'c': 1}\n"
          ]
        },
        {
          "data": {
            "text/plain": [
              "1"
            ]
          },
          "execution_count": 91,
          "metadata": {},
          "output_type": "execute_result"
        }
      ],
      "source": [
        "solve(\"ababc\")"
      ]
    },
    {
      "cell_type": "code",
      "execution_count": null,
      "id": "6497a202",
      "metadata": {
        "id": "6497a202",
        "outputId": "a60fe9f0-4b8a-4ee2-d465-11107aca1798"
      },
      "outputs": [
        {
          "data": {
            "text/plain": [
              "0"
            ]
          },
          "execution_count": 87,
          "metadata": {},
          "output_type": "execute_result"
        }
      ],
      "source": [
        "solve(\"ab\")"
      ]
    },
    {
      "cell_type": "code",
      "execution_count": null,
      "id": "9c144904",
      "metadata": {
        "id": "9c144904"
      },
      "outputs": [],
      "source": [
        ""
      ]
    },
    {
      "cell_type": "code",
      "execution_count": null,
      "id": "1486c568",
      "metadata": {
        "id": "1486c568"
      },
      "outputs": [],
      "source": [
        ""
      ]
    },
    {
      "cell_type": "code",
      "execution_count": null,
      "id": "7bda9db2",
      "metadata": {
        "id": "7bda9db2"
      },
      "outputs": [],
      "source": [
        ""
      ]
    },
    {
      "cell_type": "code",
      "execution_count": null,
      "id": "bcccc2fe",
      "metadata": {
        "id": "bcccc2fe"
      },
      "outputs": [],
      "source": [
        ""
      ]
    },
    {
      "cell_type": "code",
      "execution_count": null,
      "id": "55991262",
      "metadata": {
        "id": "55991262"
      },
      "outputs": [],
      "source": [
        ""
      ]
    },
    {
      "cell_type": "markdown",
      "id": "46b7b9a5",
      "metadata": {
        "id": "46b7b9a5"
      },
      "source": [
        "# 2D Lists"
      ]
    },
    {
      "cell_type": "markdown",
      "id": "7c1f7dd2",
      "metadata": {
        "id": "7c1f7dd2"
      },
      "source": [
        "![](https://media.giphy.com/media/quEsMOrr3hmQ8/giphy.gif)"
      ]
    },
    {
      "cell_type": "code",
      "execution_count": null,
      "id": "071f1fb1",
      "metadata": {
        "id": "071f1fb1"
      },
      "outputs": [],
      "source": [
        "a = [1, 4, 9, 2, [1,2]]"
      ]
    },
    {
      "cell_type": "code",
      "execution_count": null,
      "id": "8b460363",
      "metadata": {
        "id": "8b460363",
        "outputId": "a7e62a23-446e-453a-fd99-bd48dbcc5c88"
      },
      "outputs": [
        {
          "data": {
            "text/plain": [
              "[1, 4, 9, 2, [1, 2]]"
            ]
          },
          "execution_count": 93,
          "metadata": {},
          "output_type": "execute_result"
        }
      ],
      "source": [
        "a"
      ]
    },
    {
      "cell_type": "code",
      "execution_count": null,
      "id": "17a34ae3",
      "metadata": {
        "id": "17a34ae3",
        "outputId": "97fcea2e-f520-4076-cc4b-9da510aa8e8f"
      },
      "outputs": [
        {
          "data": {
            "text/plain": [
              "list"
            ]
          },
          "execution_count": 94,
          "metadata": {},
          "output_type": "execute_result"
        }
      ],
      "source": [
        "type(a[4])"
      ]
    },
    {
      "cell_type": "code",
      "execution_count": null,
      "id": "9c0eb370",
      "metadata": {
        "id": "9c0eb370"
      },
      "outputs": [],
      "source": [
        "a = [\n",
        "    [1, 2, 3, 4],\n",
        "    [5, 6, 7, 8],\n",
        "    [9, 10, 11, 12]\n",
        "]"
      ]
    },
    {
      "cell_type": "code",
      "execution_count": null,
      "id": "698713c3",
      "metadata": {
        "id": "698713c3",
        "outputId": "e6d14213-c355-43de-d077-920e9ccd0d41"
      },
      "outputs": [
        {
          "data": {
            "text/plain": [
              "[[1, 2, 3, 4], [5, 6, 7, 8], [9, 10, 11, 12]]"
            ]
          },
          "execution_count": 98,
          "metadata": {},
          "output_type": "execute_result"
        }
      ],
      "source": [
        "a"
      ]
    },
    {
      "cell_type": "code",
      "execution_count": null,
      "id": "641e9088",
      "metadata": {
        "id": "641e9088",
        "outputId": "c0c8bbe9-f07c-444f-8797-be14525d354c"
      },
      "outputs": [
        {
          "data": {
            "text/plain": [
              "[1, 2, 3, 4]"
            ]
          },
          "execution_count": 99,
          "metadata": {},
          "output_type": "execute_result"
        }
      ],
      "source": [
        "a[0]  # <- first row"
      ]
    },
    {
      "cell_type": "code",
      "execution_count": null,
      "id": "68611c20",
      "metadata": {
        "id": "68611c20",
        "outputId": "2036e53d-7efa-4394-d191-236d41b6982d"
      },
      "outputs": [
        {
          "data": {
            "text/plain": [
              "[5, 6, 7, 8]"
            ]
          },
          "execution_count": 100,
          "metadata": {},
          "output_type": "execute_result"
        }
      ],
      "source": [
        "a[1]   # <- second row"
      ]
    },
    {
      "cell_type": "code",
      "execution_count": null,
      "id": "8820abc7",
      "metadata": {
        "id": "8820abc7",
        "outputId": "8c2ee0b7-cec6-4c88-cfb1-9891c57a3a9b"
      },
      "outputs": [
        {
          "data": {
            "text/plain": [
              "[1, 2, 3, 4]"
            ]
          },
          "execution_count": 101,
          "metadata": {},
          "output_type": "execute_result"
        }
      ],
      "source": [
        "a[0]"
      ]
    },
    {
      "cell_type": "code",
      "execution_count": null,
      "id": "ab8be4a8",
      "metadata": {
        "id": "ab8be4a8",
        "outputId": "75664a9d-9c8a-4be8-b83c-cabd1e91128d"
      },
      "outputs": [
        {
          "data": {
            "text/plain": [
              "3"
            ]
          },
          "execution_count": 102,
          "metadata": {},
          "output_type": "execute_result"
        }
      ],
      "source": [
        "a[0][2]"
      ]
    },
    {
      "cell_type": "code",
      "execution_count": null,
      "id": "e8fd2fed",
      "metadata": {
        "id": "e8fd2fed",
        "outputId": "4c547f02-140a-46dc-a40f-b37efc0a31df"
      },
      "outputs": [
        {
          "data": {
            "text/plain": [
              "7"
            ]
          },
          "execution_count": 103,
          "metadata": {},
          "output_type": "execute_result"
        }
      ],
      "source": [
        "a[1][2]"
      ]
    },
    {
      "cell_type": "code",
      "execution_count": null,
      "id": "67356b00",
      "metadata": {
        "id": "67356b00"
      },
      "outputs": [],
      "source": [
        "a = [\n",
        "    [1, 2, 3, 4],\n",
        "    [5, 6, 7, 8],\n",
        "    [9, 10, 11, 12]\n",
        "]"
      ]
    },
    {
      "cell_type": "code",
      "execution_count": null,
      "id": "38362cc7",
      "metadata": {
        "id": "38362cc7"
      },
      "outputs": [],
      "source": [
        "b = [\n",
        "    [1, 2, 3, 4],\n",
        "    [5, 6, 7, 8],\n",
        "    [9, 10, 11, 12]\n",
        "]"
      ]
    },
    {
      "cell_type": "markdown",
      "id": "e77f4c80",
      "metadata": {
        "id": "e77f4c80"
      },
      "source": [
        "## Iterating over 2D arrays"
      ]
    },
    {
      "cell_type": "code",
      "execution_count": null,
      "id": "b53e3ae6",
      "metadata": {
        "id": "b53e3ae6",
        "outputId": "8814815e-806c-4f78-ce68-97ca0a11ecf9"
      },
      "outputs": [
        {
          "name": "stdout",
          "output_type": "stream",
          "text": [
            "1 2 3 4\n",
            "5 6 7 8\n",
            "9 10 11 12\n"
          ]
        }
      ],
      "source": [
        "for row in a:\n",
        "    print(*row)"
      ]
    },
    {
      "cell_type": "code",
      "execution_count": null,
      "id": "3467ba56",
      "metadata": {
        "id": "3467ba56",
        "outputId": "3c137118-4a40-421a-c6db-afdfb2e9a2f5"
      },
      "outputs": [
        {
          "name": "stdout",
          "output_type": "stream",
          "text": [
            "1 4 9 16 \n",
            "25 36 49 64 \n",
            "81 100 121 144 \n"
          ]
        }
      ],
      "source": [
        "for row in a:\n",
        "    for x in row:\n",
        "        print(x ** 2, end=' ')\n",
        "    print()"
      ]
    },
    {
      "cell_type": "code",
      "execution_count": null,
      "id": "f66efe0d",
      "metadata": {
        "id": "f66efe0d"
      },
      "outputs": [],
      "source": [
        ""
      ]
    },
    {
      "cell_type": "code",
      "execution_count": null,
      "id": "f6b18dbe",
      "metadata": {
        "id": "f6b18dbe"
      },
      "outputs": [],
      "source": [
        ""
      ]
    },
    {
      "cell_type": "code",
      "execution_count": null,
      "id": "49d8eb30",
      "metadata": {
        "id": "49d8eb30"
      },
      "outputs": [],
      "source": [
        ""
      ]
    },
    {
      "cell_type": "code",
      "execution_count": null,
      "id": "274cb130",
      "metadata": {
        "id": "274cb130"
      },
      "outputs": [],
      "source": [
        ""
      ]
    },
    {
      "cell_type": "code",
      "execution_count": null,
      "id": "6c46e5b9",
      "metadata": {
        "id": "6c46e5b9"
      },
      "outputs": [],
      "source": [
        ""
      ]
    },
    {
      "cell_type": "markdown",
      "id": "ce33b029",
      "metadata": {
        "id": "ce33b029"
      },
      "source": [
        "## Reading 2D Input\n",
        "Let us say we are given an input as follows where the number of rows and columns is given first and then the 2D matrix:\n",
        "```\n",
        "2 4\n",
        "1 2 3 4\n",
        "5 6 7 8\n",
        "```"
      ]
    },
    {
      "cell_type": "code",
      "execution_count": null,
      "id": "736cd45d",
      "metadata": {
        "id": "736cd45d",
        "outputId": "d446d9dd-f0cf-4c6b-d22c-13bec9f1ff59"
      },
      "outputs": [
        {
          "name": "stdout",
          "output_type": "stream",
          "text": [
            "2 4\n"
          ]
        }
      ],
      "source": [
        "r, c = map(int, input().split())"
      ]
    },
    {
      "cell_type": "code",
      "execution_count": null,
      "id": "eb2ebe66",
      "metadata": {
        "id": "eb2ebe66",
        "outputId": "ca1e78dc-db1c-463c-ec1c-98b9d5a3385b"
      },
      "outputs": [
        {
          "name": "stdout",
          "output_type": "stream",
          "text": [
            "1 2 3 4\n",
            "5 6 7 8\n"
          ]
        }
      ],
      "source": [
        "a = []\n",
        "\n",
        "# read the input row-by-row\n",
        "# run loop r times\n",
        "for i in range(r):\n",
        "    row = list(map(int, input().split()))\n",
        "    a.append(row)\n",
        "    "
      ]
    },
    {
      "cell_type": "code",
      "execution_count": null,
      "id": "e538ad0a",
      "metadata": {
        "id": "e538ad0a",
        "outputId": "63969bef-5cb6-4d6b-c098-dbb9d17c1a69"
      },
      "outputs": [
        {
          "data": {
            "text/plain": [
              "[[1, 2, 3, 4], [5, 6, 7, 8]]"
            ]
          },
          "execution_count": 120,
          "metadata": {},
          "output_type": "execute_result"
        }
      ],
      "source": [
        "a"
      ]
    },
    {
      "cell_type": "code",
      "execution_count": null,
      "id": "abf89d64",
      "metadata": {
        "id": "abf89d64",
        "outputId": "2ec4865b-5b47-487e-8213-35b399086925"
      },
      "outputs": [
        {
          "data": {
            "text/plain": [
              "3.141592653589793"
            ]
          },
          "execution_count": 122,
          "metadata": {},
          "output_type": "execute_result"
        }
      ],
      "source": [
        "import math\n",
        "math.pi"
      ]
    },
    {
      "cell_type": "code",
      "execution_count": null,
      "id": "a91f6d14",
      "metadata": {
        "id": "a91f6d14",
        "outputId": "5fb1a907-60db-4d31-f9e3-b42824babb15"
      },
      "outputs": [
        {
          "data": {
            "text/plain": [
              "0"
            ]
          },
          "execution_count": 123,
          "metadata": {},
          "output_type": "execute_result"
        }
      ],
      "source": [
        "int(3/4)"
      ]
    },
    {
      "cell_type": "code",
      "execution_count": null,
      "id": "d1ca3552",
      "metadata": {
        "id": "d1ca3552"
      },
      "outputs": [],
      "source": [
        ""
      ]
    },
    {
      "cell_type": "markdown",
      "id": "24939cac",
      "metadata": {
        "id": "24939cac"
      },
      "source": [
        "## Problems to Practice\n",
        "\n",
        "#### Easy\n",
        "1. Addition of two matrices\n",
        "2. Subtraction of two matrices\n",
        "\n",
        "\n",
        "#### Intermediate\n",
        "1. Compute determinant of a square matrix\n",
        "2. Compute product of two matrices (given they are product compatible)\n",
        "\n",
        "#### Hard\n",
        "1. Compute the inverse of a matrix"
      ]
    },
    {
      "cell_type": "code",
      "execution_count": null,
      "id": "36542365",
      "metadata": {
        "id": "36542365"
      },
      "outputs": [],
      "source": [
        ""
      ]
    }
  ],
  "metadata": {
    "kernelspec": {
      "display_name": "Python 3 (ipykernel)",
      "language": "python",
      "name": "python3"
    },
    "language_info": {
      "codemirror_mode": {
        "name": "ipython",
        "version": 3
      },
      "file_extension": ".py",
      "mimetype": "text/x-python",
      "name": "python",
      "nbconvert_exporter": "python",
      "pygments_lexer": "ipython3",
      "version": "3.9.7"
    },
    "colab": {
      "name": "Sets and Dictionaries-checkpoint.ipynb",
      "provenance": []
    }
  },
  "nbformat": 4,
  "nbformat_minor": 5
}